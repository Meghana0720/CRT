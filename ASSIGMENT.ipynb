{
 "cells": [
  {
   "cell_type": "code",
   "execution_count": 1,
   "metadata": {},
   "outputs": [
    {
     "name": "stdout",
     "output_type": "stream",
     "text": [
      "The number is even\n"
     ]
    }
   ],
   "source": [
    "#if else condition:\n",
    "x=20\n",
    "if x%2==0:\n",
    "    print(\"The number is even\")\n",
    "else:\n",
    "    print(\"The number is odd\")"
   ]
  },
  {
   "cell_type": "code",
   "execution_count": 2,
   "metadata": {},
   "outputs": [
    {
     "name": "stdout",
     "output_type": "stream",
     "text": [
      "test1\n"
     ]
    }
   ],
   "source": [
    "#if elif else condition:1\n",
    "a=10\n",
    "b=20\n",
    "if a+b>a:\n",
    "    print(\"test1\")\n",
    "elif a>5:\n",
    "    print(\"test2\")\n",
    "else:\n",
    "    print(\"test3\")\n",
    "#IF if condition is crct then it executes and remaining \n",
    "# elif else will not executes,\n",
    "# If if condition is wrong then elif executes \n",
    "# if both are false then else executes."
   ]
  },
  {
   "cell_type": "code",
   "execution_count": 3,
   "metadata": {},
   "outputs": [
    {
     "name": "stdout",
     "output_type": "stream",
     "text": [
      "test1\n",
      "test2\n"
     ]
    }
   ],
   "source": [
    "a=10\n",
    "b=20\n",
    "if a+b>a:\n",
    "    print(\"test1\")\n",
    "if 5>2:\n",
    "    print(\"test2\")\n",
    "else:\n",
    "    print(\"test3\")\n",
    "    #both if parts will executes."
   ]
  },
  {
   "cell_type": "code",
   "execution_count": 6,
   "metadata": {},
   "outputs": [
    {
     "name": "stdout",
     "output_type": "stream",
     "text": [
      "test1\n",
      "test2\n",
      "testn\n",
      "test5\n"
     ]
    }
   ],
   "source": [
    "a=10\n",
    "b=20\n",
    "if a+b>a:\n",
    "    print(\"test1\")\n",
    "if 5>2:\n",
    "    print(\"test2\")                 \n",
    "else:                              \n",
    "    print(\"test3\")\n",
    "if 6>2:\n",
    "    print(\"testn\")  \n",
    "if 9>50:\n",
    "    print(\"test4\")\n",
    "elif a>5:\n",
    "    print(\"test5\")\n",
    "else:\n",
    "    print(\"test6\")\n",
    "    #if part is wrong so elif part is executed"
   ]
  },
  {
   "cell_type": "code",
   "execution_count": 8,
   "metadata": {},
   "outputs": [
    {
     "name": "stdout",
     "output_type": "stream",
     "text": [
      "test2\n"
     ]
    }
   ],
   "source": [
    "if 1>2:\n",
    "    print(\"test1\")\n",
    "elif 5>2:\n",
    "    print(\"test2\")\n",
    "elif 7>1:\n",
    "    print(\"test3\")\n",
    "else:\n",
    "    print(\"test4\")\n"
   ]
  },
  {
   "cell_type": "code",
   "execution_count": 9,
   "metadata": {},
   "outputs": [
    {
     "name": "stdout",
     "output_type": "stream",
     "text": [
      "test3\n"
     ]
    }
   ],
   "source": [
    "if 1>2:\n",
    "    print(\"test1\")\n",
    "elif 5>20:\n",
    "    print(\"test2\")\n",
    "elif 7>1:\n",
    "    print(\"test3\")\n",
    "else:\n",
    "    print(\"test4\")"
   ]
  },
  {
   "cell_type": "code",
   "execution_count": 10,
   "metadata": {},
   "outputs": [
    {
     "name": "stdout",
     "output_type": "stream",
     "text": [
      "testn\n",
      "test3\n"
     ]
    }
   ],
   "source": [
    "if 5>2:\n",
    "    print(\"testn\")\n",
    "if 1>2:\n",
    "    print(\"test1\")\n",
    "elif 5>20:\n",
    "    print(\"test2\")\n",
    "elif 7>1:\n",
    "    print(\"test3\")\n",
    "else:\n",
    "    print(\"test4\")"
   ]
  },
  {
   "cell_type": "code",
   "execution_count": 12,
   "metadata": {},
   "outputs": [
    {
     "name": "stdout",
     "output_type": "stream",
     "text": [
      "2\n",
      "4\n",
      "6\n",
      "8\n",
      "10\n",
      "12\n",
      "14\n",
      "16\n",
      "18\n",
      "20\n",
      "22\n",
      "24\n",
      "26\n",
      "28\n",
      "30\n",
      "32\n",
      "34\n",
      "36\n",
      "38\n",
      "40\n",
      "42\n",
      "44\n",
      "46\n",
      "48\n",
      "50\n"
     ]
    }
   ],
   "source": [
    "#LOOPING STATEMENTS:\n",
    "#1.WHILE LOOP \n",
    "#2.FOR LOOP\n",
    "#3.RECURRSION\n",
    "n=2\n",
    "while n<=51:\n",
    "    print(n)\n",
    "    n+=2 #or n=n+2"
   ]
  },
  {
   "cell_type": "code",
   "execution_count": 17,
   "metadata": {},
   "outputs": [
    {
     "name": "stdout",
     "output_type": "stream",
     "text": [
      "1\n",
      "2\n",
      "5\n",
      "10\n"
     ]
    }
   ],
   "source": [
    "n=10\n",
    "c=1\n",
    "while c<=n:\n",
    "    if n%c==0:\n",
    "        print(c)\n",
    "    c=c+1"
   ]
  },
  {
   "cell_type": "code",
   "execution_count": 20,
   "metadata": {},
   "outputs": [
    {
     "name": "stdout",
     "output_type": "stream",
     "text": [
      "1\n",
      "3\n",
      "5\n",
      "7\n",
      "9\n",
      "11\n",
      "13\n",
      "15\n",
      "17\n",
      "19\n",
      "21\n",
      "23\n",
      "25\n",
      "27\n",
      "29\n",
      "31\n",
      "33\n",
      "35\n",
      "37\n",
      "39\n",
      "41\n",
      "43\n",
      "45\n",
      "47\n",
      "49\n"
     ]
    }
   ],
   "source": [
    "n=1\n",
    "while n<51:\n",
    "    print(n)\n",
    "    n+=2"
   ]
  },
  {
   "cell_type": "code",
   "execution_count": 22,
   "metadata": {},
   "outputs": [
    {
     "name": "stdout",
     "output_type": "stream",
     "text": [
      "4\n"
     ]
    }
   ],
   "source": [
    "n=10\n",
    "c=1\n",
    "cmt=0\n",
    "while c<=n:\n",
    "    if n%c==0:\n",
    "        cmt=cmt+1\n",
    "    c=c+1\n",
    "print(cmt)"
   ]
  },
  {
   "cell_type": "code",
   "execution_count": 24,
   "metadata": {},
   "outputs": [
    {
     "name": "stdout",
     "output_type": "stream",
     "text": [
      "numbers of factors: 2\n",
      "prime number\n"
     ]
    }
   ],
   "source": [
    "#prime number\n",
    "n=13\n",
    "c=1\n",
    "cnt=0\n",
    "while c<=n:\n",
    "    if n%c==0:\n",
    "        cnt+=1\n",
    "    c=c+1\n",
    "print(\"numbers of factors:\",cnt)   #find the number of factors\n",
    "if cnt==2:                          #then prime or not\n",
    "    print(\"prime number\")\n",
    "else:\n",
    "    print(\"not an prime number\")\n"
   ]
  },
  {
   "cell_type": "code",
   "execution_count": 2,
   "metadata": {},
   "outputs": [
    {
     "name": "stdout",
     "output_type": "stream",
     "text": [
      "number is positive\n"
     ]
    }
   ],
   "source": [
    "##### ASSIGNMENT ANSWERS\n",
    "x=10\n",
    "if x>0 :\n",
    "    print(\"number is positive\")\n",
    "elif x<0:\n",
    "    print(\"number is negative\")\n",
    "else:\n",
    "    print(\"number is zero\")"
   ]
  },
  {
   "cell_type": "code",
   "execution_count": 5,
   "metadata": {},
   "outputs": [
    {
     "name": "stdout",
     "output_type": "stream",
     "text": [
      "even\n"
     ]
    }
   ],
   "source": [
    "x=96\n",
    "if x%2==0:\n",
    "    print(\"even\")\n",
    "else:\n",
    "    print(\"odd\")"
   ]
  },
  {
   "cell_type": "code",
   "execution_count": 7,
   "metadata": {},
   "outputs": [
    {
     "name": "stdout",
     "output_type": "stream",
     "text": [
      "y is largest\n"
     ]
    }
   ],
   "source": [
    "x=int(input())\n",
    "y=int(input())\n",
    "z=int(input())\n",
    "if x>y and x>z:\n",
    "    print(\"x is largest\")\n",
    "if y>x and y>z:\n",
    "    print(\"y is largest\")\n",
    "else:\n",
    "    print(\"z is largest\")"
   ]
  },
  {
   "cell_type": "code",
   "execution_count": 10,
   "metadata": {},
   "outputs": [
    {
     "name": "stdout",
     "output_type": "stream",
     "text": [
      "year is leap year\n"
     ]
    }
   ],
   "source": [
    "x=2024\n",
    "if x%4==0 and x%100!=0:\n",
    "    print(\"year is leap year\")\n",
    "else:\n",
    "    print(\"year is not leap year\")"
   ]
  },
  {
   "cell_type": "code",
   "execution_count": 14,
   "metadata": {},
   "outputs": [
    {
     "name": "stdout",
     "output_type": "stream",
     "text": [
      "A grade\n"
     ]
    }
   ],
   "source": [
    "x=int(input())\n",
    "if x>90:\n",
    "    print(\"A grade\")\n",
    "elif x>80:\n",
    "    print(\"B grade\")\n",
    "else:\n",
    "    print(\"c grade\")"
   ]
  },
  {
   "cell_type": "code",
   "execution_count": 15,
   "metadata": {},
   "outputs": [
    {
     "name": "stdout",
     "output_type": "stream",
     "text": [
      "1\n",
      "2\n",
      "3\n",
      "4\n",
      "5\n",
      "6\n",
      "7\n",
      "8\n",
      "9\n",
      "10\n"
     ]
    }
   ],
   "source": [
    "n=1\n",
    "while n<11:\n",
    "    print(n)\n",
    "    n=n+1\n"
   ]
  },
  {
   "cell_type": "code",
   "execution_count": 30,
   "metadata": {},
   "outputs": [
    {
     "name": "stdout",
     "output_type": "stream",
     "text": [
      "the factorial of a: 40320\n"
     ]
    }
   ],
   "source": [
    "n=int(input())\n",
    "a=1\n",
    "c=1\n",
    "while c<=n:\n",
    "    a=a*c\n",
    "    c+=1\n",
    "print(\"the factorial of a:\",a)"
   ]
  },
  {
   "cell_type": "code",
   "execution_count": 24,
   "metadata": {},
   "outputs": [
    {
     "name": "stdout",
     "output_type": "stream",
     "text": [
      "2\n",
      "4\n",
      "6\n",
      "8\n",
      "10\n",
      "12\n",
      "14\n",
      "16\n",
      "18\n",
      "20\n",
      "22\n",
      "24\n",
      "26\n",
      "28\n",
      "30\n",
      "32\n",
      "34\n",
      "36\n",
      "38\n",
      "40\n",
      "42\n",
      "44\n",
      "46\n",
      "48\n",
      "50\n"
     ]
    }
   ],
   "source": [
    "n=2\n",
    "while n<51:\n",
    "    print(n)\n",
    "    n=n+2"
   ]
  },
  {
   "cell_type": "code",
   "execution_count": 29,
   "metadata": {},
   "outputs": [
    {
     "name": "stdout",
     "output_type": "stream",
     "text": [
      "15\n"
     ]
    }
   ],
   "source": [
    "n=int(input())\n",
    "sum=0\n",
    "i=1\n",
    "while(i<=n):\n",
    "    sum=sum+i\n",
    "    i+=1\n",
    "print(sum)"
   ]
  },
  {
   "cell_type": "code",
   "execution_count": 2,
   "metadata": {},
   "outputs": [
    {
     "name": "stdout",
     "output_type": "stream",
     "text": [
      "43\n"
     ]
    }
   ],
   "source": [
    "n=int(input())\n",
    "value=0\n",
    "while n!=0:\n",
    "    value=value *10 + n % 10\n",
    "    n//=10\n",
    "print(value)"
   ]
  },
  {
   "cell_type": "code",
   "execution_count": 4,
   "metadata": {},
   "outputs": [
    {
     "name": "stdout",
     "output_type": "stream",
     "text": [
      "not same\n"
     ]
    }
   ],
   "source": [
    "n=int(input())\n",
    "value=0\n",
    "while n!=0:\n",
    "    value=value *10 + n % 10\n",
    "    n//=10\n",
    "if(value==n):\n",
    "    print(\"value same\")\n",
    "else:\n",
    "    print(\"not same\")"
   ]
  },
  {
   "cell_type": "code",
   "execution_count": 5,
   "metadata": {},
   "outputs": [
    {
     "name": "stdout",
     "output_type": "stream",
     "text": [
      "3\n"
     ]
    }
   ],
   "source": [
    "n=int(input())\n",
    "value=0\n",
    "while n!=0:\n",
    "    n=n//10\n",
    "    value+=1\n",
    "print(value)\n"
   ]
  }
 ],
 "metadata": {
  "kernelspec": {
   "display_name": "Python 3",
   "language": "python",
   "name": "python3"
  },
  "language_info": {
   "codemirror_mode": {
    "name": "ipython",
    "version": 3
   },
   "file_extension": ".py",
   "mimetype": "text/x-python",
   "name": "python",
   "nbconvert_exporter": "python",
   "pygments_lexer": "ipython3",
   "version": "3.12.4"
  }
 },
 "nbformat": 4,
 "nbformat_minor": 2
}
